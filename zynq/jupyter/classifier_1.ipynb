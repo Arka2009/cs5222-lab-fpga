{
 "cells": [
  {
   "cell_type": "code",
   "execution_count": 1,
   "metadata": {},
   "outputs": [
    {
     "data": {
      "application/javascript": [
       "\n",
       "require(['notebook/js/codecell'], function(codecell) {\n",
       "  codecell.CodeCell.options_default.highlight_modes[\n",
       "      'magic_text/x-csrc'] = {'reg':[/^%%microblaze/]};\n",
       "  Jupyter.notebook.events.one('kernel_ready.Kernel', function(){\n",
       "      Jupyter.notebook.get_cells().map(function(cell){\n",
       "          if (cell.cell_type == 'code'){ cell.auto_highlight(); } }) ;\n",
       "  });\n",
       "});\n"
      ]
     },
     "metadata": {},
     "output_type": "display_data"
    }
   ],
   "source": [
    "import cffi\n",
    "import numpy as np\n",
    "from pynq import MMIO\n",
    "from pynq import Overlay\n",
    "from pynq import PL\n",
    "from pynq.lib.dma import LegacyDMA as DMA\n",
    "from time import sleep, time\n",
    "\n",
    "# Classifier Dimensions\n",
    "BATCH = 2048\n",
    "FEAT = 256\n",
    "CLASSES = 10\n",
    "\n",
    "# Addresses\n",
    "ACCEL_CTRL = 0x43C00000\n",
    "AXI_DMA_0 = 0x40400000\n",
    "AXI_DMA_1 = 0x40410000\n",
    "AXI_TIMER = 0x42800000\n",
    "\n",
    "# C FFI\n",
    "ffi = cffi.FFI()\n",
    "\n",
    "# DMA Configs\n",
    "DMAConfig1 = {\n",
    "    'DeviceId' : 0,\n",
    "    'BaseAddr' : ffi.cast(\"uint32_t *\",AXI_DMA_0),\n",
    "    'HasStsCntrlStrm' : 0,\n",
    "    'HasMm2S' : 1,\n",
    "    'HasMm2SDRE' : 1,\n",
    "    'Mm2SDataWidth' : 64,\n",
    "    'HasS2Mm' : 0,\n",
    "    'HasS2MmDRE' : 0,\n",
    "    'S2MmDataWidth' : 32,\n",
    "    'HasSg' : 0,\n",
    "    'Mm2sNumChannels' : 1,\n",
    "    'S2MmNumChannels' : 1,\n",
    "    'Mm2SBurstSize' : 256,\n",
    "    'S2MmBurstSize' : 16,\n",
    "    'MicroDmaMode' : 0,\n",
    "    'AddrWidth' : 32\n",
    "}\n",
    "DMAConfig2 = {\n",
    "    'DeviceId' : 1,\n",
    "    'BaseAddr' : ffi.cast(\"uint32_t *\",AXI_DMA_1),\n",
    "    'HasStsCntrlStrm' : 0,\n",
    "    'HasMm2S' : 0,\n",
    "    'HasMm2SDRE' : 0,\n",
    "    'Mm2SDataWidth' : 32,\n",
    "    'HasS2Mm' : 1,\n",
    "    'HasS2MmDRE' : 1,\n",
    "    'S2MmDataWidth' : 64,\n",
    "    'HasSg' : 0,\n",
    "    'Mm2sNumChannels' : 1,\n",
    "    'S2MmNumChannels' : 1,\n",
    "    'Mm2SBurstSize' : 16,\n",
    "    'S2MmBurstSize' : 256,\n",
    "    'MicroDmaMode' : 0,\n",
    "    'AddrWidth' : 32\n",
    "}\n",
    "\n",
    "# Download the custom overlay\n",
    "ol = Overlay(\"/opt/python3.6/lib/python3.6/site-packages/pynq/bitstream/classifier_base.bit\")\n",
    "#ol = Overlay(\"/opt/python3.6/lib/python3.6/site-packages/pynq/bitstream/classifier_probD.bit\")\n",
    "ol.download()\n",
    "\n",
    "# Initialize HLS IP\n",
    "mmult_ip = MMIO(ACCEL_CTRL,0x10000)\n",
    "# Start the accelerator\n",
    "ctrl=mmult_ip.read(0x00)&0x08\n",
    "mmult_ip.write(0x00, (ctrl|0x81))\n",
    "ctrl=mmult_ip.read(0x00)\n",
    "hex(ctrl)\n",
    "\n",
    "# Initialize DMA1 (mem to FPGA)\n",
    "dma1 = DMA(AXI_DMA_0, direction=0, attr_dict=DMAConfig1)\n",
    "dma1.create_buf((CLASSES+CLASSES*FEAT+BATCH*FEAT)*4, cacheable=0)\n",
    "\n",
    "# Initialize DMA2 (FPGA to mem)\n",
    "dma2 = DMA(AXI_DMA_1, direction=1, attr_dict=DMAConfig2)\n",
    "dma2.create_buf(BATCH*CLASSES*4, cacheable=0)\n",
    "# Start DMA transfer from FPGA to memory\n",
    "dma2.transfer(BATCH*CLASSES*4, direction=1)"
   ]
  },
  {
   "cell_type": "code",
   "execution_count": 2,
   "metadata": {},
   "outputs": [
    {
     "name": "stdout",
     "output_type": "stream",
     "text": [
      "(2048, 256)\n",
      "(2048, 10)\n"
     ]
    }
   ],
   "source": [
    "# Initialize offsets, weights and inputs\n",
    "o = np.load('model_offsets.npy').astype(np.float32)\n",
    "w = np.load('model_weights.npy').astype(np.float32)\n",
    "i = np.load('test_data.npy').astype(np.float32)\n",
    "l = np.load('test_labels.npy').astype(np.float32)\n",
    "\n",
    "# Sample BATCHSIZE test samples from the MNIST test dataset\n",
    "np.random.seed(0xCAFEBEEF)\n",
    "ridx = np.random.choice(np.arange(len(i)), BATCH, replace=False)\n",
    "i = i[ridx]\n",
    "l = l[ridx]"
   ]
  },
  {
   "cell_type": "code",
   "execution_count": 3,
   "metadata": {},
   "outputs": [],
   "source": [
    "# Move offset, weight and input data to DMA buffer\n",
    "ffi.memmove(dma1.get_buf(), ffi.cast(\"uint32_t *\", o.ctypes.data), CLASSES*4)\n",
    "ffi.memmove(dma1.get_buf()+CLASSES, ffi.cast(\"uint32_t *\", w.ctypes.data), CLASSES*FEAT*4)\n",
    "ffi.memmove(dma1.get_buf()+CLASSES+CLASSES*FEAT, ffi.cast(\"uint32_t *\", i.ctypes.data), BATCH*FEAT*4)\n",
    "\n",
    "# Perform FPGA offloading\n",
    "start_t = time()\n",
    "dma1.transfer((CLASSES+CLASSES*FEAT+BATCH*FEAT)*4, direction=0)\n",
    "dma2.wait()\n",
    "fpga_time = time()-start_t\n",
    "\n",
    "# Dump FPGA result to a numpy array\n",
    "c = np.frombuffer(ffi.buffer(\n",
    "        dma2.get_buf(),BATCH*CLASSES*4),\n",
    "        dtype=np.float32).reshape(BATCH,CLASSES)"
   ]
  },
  {
   "cell_type": "code",
   "execution_count": 9,
   "metadata": {},
   "outputs": [
    {
     "name": "stdout",
     "output_type": "stream",
     "text": [
      "(2048, 10)\n"
     ]
    }
   ],
   "source": [
    "# Prepare input and weight matrices for matrix multiplication on CPU\n",
    "ones = np.ones(BATCH).reshape((BATCH,1))\n",
    "i_p = np.append(ones, i, axis=1)\n",
    "w_p = np.append(o.reshape(CLASSES,1), w, axis=1)\n",
    "\n",
    "# Compute CPU result\n",
    "start_t = time()\n",
    "c_ref = np.dot(i_p,w_p.T)\n",
    "cpu_time = time()-start_t"
   ]
  },
  {
   "cell_type": "code",
   "execution_count": 23,
   "metadata": {},
   "outputs": [
    {
     "name": "stdout",
     "output_type": "stream",
     "text": [
      "FPGA accuracy: 90.23% validation error\n",
      "CPU accuracy:  13.04% validation error\n",
      "FPGA has a 15.16x speedup\n"
     ]
    }
   ],
   "source": [
    "# Evaluate validation accuracy\n",
    "cpu_errors = 0\n",
    "fpga_errors = 0\n",
    "for idx in range(BATCH):\n",
    "    fpga_label = np.argmax(c[idx])\n",
    "    cpu_label = np.argmax(c_ref[idx])\n",
    "    actual_label = np.argmax(l[idx])\n",
    "    if (fpga_label!=actual_label):\n",
    "        fpga_errors += 1.\n",
    "    if (cpu_label!=actual_label):\n",
    "        cpu_errors += 1.\n",
    "\n",
    "# Compare CPU and FPGA errors\n",
    "# diff = c - c_ref\n",
    "# print(np.max(diff))\n",
    "# Report results\n",
    "print(\"FPGA accuracy: {0:.2f}% validation error\".format(fpga_errors/BATCH*100))\n",
    "print(\"CPU accuracy:  {0:.2f}% validation error\".format(cpu_errors/BATCH*100))\n",
    "if (cpu_time < fpga_time):\n",
    "    print(\"FPGA has a {0:.2f}x slowdown\".format(fpga_time/cpu_time))\n",
    "else:\n",
    "    print(\"FPGA has a {0:.2f}x speedup\".format(cpu_time/fpga_time))"
   ]
  },
  {
   "cell_type": "code",
   "execution_count": 15,
   "metadata": {},
   "outputs": [
    {
     "data": {
      "image/png": "[encoded data removed]",
      "text/plain": [
       "<matplotlib.figure.Figure at 0x2e0065f0>"
      ]
     },
     "metadata": {},
     "output_type": "display_data"
    },
    {
     "name": "stdout",
     "output_type": "stream",
     "text": [
      "Classified as 9 by the FPGA\n"
     ]
    }
   ],
   "source": [
    "# Render a given numpy 2D array of pixel data.\n",
    "def show(image):\n",
    "    from matplotlib import pyplot\n",
    "    import matplotlib as mpl\n",
    "    fig = pyplot.figure()\n",
    "    ax = fig.add_subplot(1,1,1)\n",
    "    imgplot = ax.imshow(image, cmap=mpl.cm.Greys)\n",
    "    imgplot.set_interpolation('nearest')\n",
    "    ax.xaxis.set_ticks_position('top')\n",
    "    ax.yaxis.set_ticks_position('left')\n",
    "    pyplot.show()\n",
    "\n",
    "# Inspect one of the hand digits classified by the FPGA\n",
    "idx = 1\n",
    "show(i[idx].reshape(16,16))\n",
    "print(\"Classified as {} by the FPGA\".format(np.argmax(c[idx])))"
   ]
  },
  {
   "cell_type": "code",
   "execution_count": null,
   "metadata": {},
   "outputs": [],
   "source": []
  },
  {
   "cell_type": "code",
   "execution_count": null,
   "metadata": {},
   "outputs": [],
   "source": []
  }
 ],
 "metadata": {
  "kernelspec": {
   "display_name": "Python 3",
   "language": "python",
   "name": "python3"
  },
  "language_info": {
   "codemirror_mode": {
    "name": "ipython",
    "version": 3
   },
   "file_extension": ".py",
   "mimetype": "text/x-python",
   "name": "python",
   "nbconvert_exporter": "python",
   "pygments_lexer": "ipython3",
   "version": "3.6.0"
  }
 },
 "nbformat": 4,
 "nbformat_minor": 2
}
